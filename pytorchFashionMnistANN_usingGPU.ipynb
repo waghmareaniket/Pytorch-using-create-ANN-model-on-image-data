{
  "nbformat": 4,
  "nbformat_minor": 0,
  "metadata": {
    "colab": {
      "provenance": [],
      "gpuType": "T4"
    },
    "kernelspec": {
      "name": "python3",
      "display_name": "Python 3"
    },
    "language_info": {
      "name": "python"
    },
    "accelerator": "GPU"
  },
  "cells": [
    {
      "cell_type": "code",
      "source": [
        "import pandas as pd\n",
        "from sklearn.model_selection import train_test_split\n",
        "import torch\n",
        "from torch.utils.data import Dataset,DataLoader\n",
        "import torch.nn as nn\n",
        "import torch.optim as optim\n",
        "import matplotlib.pyplot as plt\n"
      ],
      "metadata": {
        "id": "aUOxmWAZSScs"
      },
      "execution_count": 65,
      "outputs": []
    },
    {
      "cell_type": "code",
      "source": [
        "device=torch.device('cuda' if torch.cuda.is_available() else 'cpu')\n",
        "print(f'usingdevice: { device}')"
      ],
      "metadata": {
        "colab": {
          "base_uri": "https://localhost:8080/"
        },
        "id": "9TsPTtkKwt6m",
        "outputId": "bfe50d4f-e889-4415-8d41-0b1040a0b959"
      },
      "execution_count": 66,
      "outputs": [
        {
          "output_type": "stream",
          "name": "stdout",
          "text": [
            "usingdevice: cpu\n"
          ]
        }
      ]
    },
    {
      "cell_type": "code",
      "source": [],
      "metadata": {
        "id": "owrN_DTgwtxK"
      },
      "execution_count": 66,
      "outputs": []
    },
    {
      "cell_type": "code",
      "source": [
        "torch.manual_seed(42)"
      ],
      "metadata": {
        "colab": {
          "base_uri": "https://localhost:8080/"
        },
        "id": "rbWaE9-qSSfU",
        "outputId": "58ec3d1b-aa47-4b1d-9858-7e660d9d6ad2"
      },
      "execution_count": 67,
      "outputs": [
        {
          "output_type": "execute_result",
          "data": {
            "text/plain": [
              "<torch._C.Generator at 0x7bfb314c9670>"
            ]
          },
          "metadata": {},
          "execution_count": 67
        }
      ]
    },
    {
      "cell_type": "code",
      "source": [],
      "metadata": {
        "id": "Ky2QQ4cjTPU8"
      },
      "execution_count": 67,
      "outputs": []
    },
    {
      "cell_type": "code",
      "source": [
        "df =pd.read_csv('fmnist_small.csv')\n",
        "df.head()"
      ],
      "metadata": {
        "colab": {
          "base_uri": "https://localhost:8080/",
          "height": 235
        },
        "id": "r2jbqRywSSiK",
        "outputId": "15afa4fb-8eae-4dba-a376-cfef1d33fd8c"
      },
      "execution_count": 68,
      "outputs": [
        {
          "output_type": "execute_result",
          "data": {
            "text/plain": [
              "   label  pixel1  pixel2  pixel3  pixel4  pixel5  pixel6  pixel7  pixel8  \\\n",
              "0      9       0       0       0       0       0       0       0       0   \n",
              "1      7       0       0       0       0       0       0       0       0   \n",
              "2      0       0       0       0       0       0       1       0       0   \n",
              "3      8       0       0       0       0       0       0       0       0   \n",
              "4      8       0       0       0       0       0       0       0       0   \n",
              "\n",
              "   pixel9  ...  pixel775  pixel776  pixel777  pixel778  pixel779  pixel780  \\\n",
              "0       0  ...         0         7         0        50       205       196   \n",
              "1       0  ...         0         0         0         0         0         0   \n",
              "2       0  ...       142       142       142        21         0         3   \n",
              "3       0  ...         0         0         0         0         0         0   \n",
              "4       0  ...       213       203       174       151       188        10   \n",
              "\n",
              "   pixel781  pixel782  pixel783  pixel784  \n",
              "0       213       165         0         0  \n",
              "1         0         0         0         0  \n",
              "2         0         0         0         0  \n",
              "3         0         0         0         0  \n",
              "4         0         0         0         0  \n",
              "\n",
              "[5 rows x 785 columns]"
            ],
            "text/html": [
              "\n",
              "  <div id=\"df-9def0c9a-e532-4045-bb2a-016d0077c5c8\" class=\"colab-df-container\">\n",
              "    <div>\n",
              "<style scoped>\n",
              "    .dataframe tbody tr th:only-of-type {\n",
              "        vertical-align: middle;\n",
              "    }\n",
              "\n",
              "    .dataframe tbody tr th {\n",
              "        vertical-align: top;\n",
              "    }\n",
              "\n",
              "    .dataframe thead th {\n",
              "        text-align: right;\n",
              "    }\n",
              "</style>\n",
              "<table border=\"1\" class=\"dataframe\">\n",
              "  <thead>\n",
              "    <tr style=\"text-align: right;\">\n",
              "      <th></th>\n",
              "      <th>label</th>\n",
              "      <th>pixel1</th>\n",
              "      <th>pixel2</th>\n",
              "      <th>pixel3</th>\n",
              "      <th>pixel4</th>\n",
              "      <th>pixel5</th>\n",
              "      <th>pixel6</th>\n",
              "      <th>pixel7</th>\n",
              "      <th>pixel8</th>\n",
              "      <th>pixel9</th>\n",
              "      <th>...</th>\n",
              "      <th>pixel775</th>\n",
              "      <th>pixel776</th>\n",
              "      <th>pixel777</th>\n",
              "      <th>pixel778</th>\n",
              "      <th>pixel779</th>\n",
              "      <th>pixel780</th>\n",
              "      <th>pixel781</th>\n",
              "      <th>pixel782</th>\n",
              "      <th>pixel783</th>\n",
              "      <th>pixel784</th>\n",
              "    </tr>\n",
              "  </thead>\n",
              "  <tbody>\n",
              "    <tr>\n",
              "      <th>0</th>\n",
              "      <td>9</td>\n",
              "      <td>0</td>\n",
              "      <td>0</td>\n",
              "      <td>0</td>\n",
              "      <td>0</td>\n",
              "      <td>0</td>\n",
              "      <td>0</td>\n",
              "      <td>0</td>\n",
              "      <td>0</td>\n",
              "      <td>0</td>\n",
              "      <td>...</td>\n",
              "      <td>0</td>\n",
              "      <td>7</td>\n",
              "      <td>0</td>\n",
              "      <td>50</td>\n",
              "      <td>205</td>\n",
              "      <td>196</td>\n",
              "      <td>213</td>\n",
              "      <td>165</td>\n",
              "      <td>0</td>\n",
              "      <td>0</td>\n",
              "    </tr>\n",
              "    <tr>\n",
              "      <th>1</th>\n",
              "      <td>7</td>\n",
              "      <td>0</td>\n",
              "      <td>0</td>\n",
              "      <td>0</td>\n",
              "      <td>0</td>\n",
              "      <td>0</td>\n",
              "      <td>0</td>\n",
              "      <td>0</td>\n",
              "      <td>0</td>\n",
              "      <td>0</td>\n",
              "      <td>...</td>\n",
              "      <td>0</td>\n",
              "      <td>0</td>\n",
              "      <td>0</td>\n",
              "      <td>0</td>\n",
              "      <td>0</td>\n",
              "      <td>0</td>\n",
              "      <td>0</td>\n",
              "      <td>0</td>\n",
              "      <td>0</td>\n",
              "      <td>0</td>\n",
              "    </tr>\n",
              "    <tr>\n",
              "      <th>2</th>\n",
              "      <td>0</td>\n",
              "      <td>0</td>\n",
              "      <td>0</td>\n",
              "      <td>0</td>\n",
              "      <td>0</td>\n",
              "      <td>0</td>\n",
              "      <td>1</td>\n",
              "      <td>0</td>\n",
              "      <td>0</td>\n",
              "      <td>0</td>\n",
              "      <td>...</td>\n",
              "      <td>142</td>\n",
              "      <td>142</td>\n",
              "      <td>142</td>\n",
              "      <td>21</td>\n",
              "      <td>0</td>\n",
              "      <td>3</td>\n",
              "      <td>0</td>\n",
              "      <td>0</td>\n",
              "      <td>0</td>\n",
              "      <td>0</td>\n",
              "    </tr>\n",
              "    <tr>\n",
              "      <th>3</th>\n",
              "      <td>8</td>\n",
              "      <td>0</td>\n",
              "      <td>0</td>\n",
              "      <td>0</td>\n",
              "      <td>0</td>\n",
              "      <td>0</td>\n",
              "      <td>0</td>\n",
              "      <td>0</td>\n",
              "      <td>0</td>\n",
              "      <td>0</td>\n",
              "      <td>...</td>\n",
              "      <td>0</td>\n",
              "      <td>0</td>\n",
              "      <td>0</td>\n",
              "      <td>0</td>\n",
              "      <td>0</td>\n",
              "      <td>0</td>\n",
              "      <td>0</td>\n",
              "      <td>0</td>\n",
              "      <td>0</td>\n",
              "      <td>0</td>\n",
              "    </tr>\n",
              "    <tr>\n",
              "      <th>4</th>\n",
              "      <td>8</td>\n",
              "      <td>0</td>\n",
              "      <td>0</td>\n",
              "      <td>0</td>\n",
              "      <td>0</td>\n",
              "      <td>0</td>\n",
              "      <td>0</td>\n",
              "      <td>0</td>\n",
              "      <td>0</td>\n",
              "      <td>0</td>\n",
              "      <td>...</td>\n",
              "      <td>213</td>\n",
              "      <td>203</td>\n",
              "      <td>174</td>\n",
              "      <td>151</td>\n",
              "      <td>188</td>\n",
              "      <td>10</td>\n",
              "      <td>0</td>\n",
              "      <td>0</td>\n",
              "      <td>0</td>\n",
              "      <td>0</td>\n",
              "    </tr>\n",
              "  </tbody>\n",
              "</table>\n",
              "<p>5 rows × 785 columns</p>\n",
              "</div>\n",
              "    <div class=\"colab-df-buttons\">\n",
              "\n",
              "  <div class=\"colab-df-container\">\n",
              "    <button class=\"colab-df-convert\" onclick=\"convertToInteractive('df-9def0c9a-e532-4045-bb2a-016d0077c5c8')\"\n",
              "            title=\"Convert this dataframe to an interactive table.\"\n",
              "            style=\"display:none;\">\n",
              "\n",
              "  <svg xmlns=\"http://www.w3.org/2000/svg\" height=\"24px\" viewBox=\"0 -960 960 960\">\n",
              "    <path d=\"M120-120v-720h720v720H120Zm60-500h600v-160H180v160Zm220 220h160v-160H400v160Zm0 220h160v-160H400v160ZM180-400h160v-160H180v160Zm440 0h160v-160H620v160ZM180-180h160v-160H180v160Zm440 0h160v-160H620v160Z\"/>\n",
              "  </svg>\n",
              "    </button>\n",
              "\n",
              "  <style>\n",
              "    .colab-df-container {\n",
              "      display:flex;\n",
              "      gap: 12px;\n",
              "    }\n",
              "\n",
              "    .colab-df-convert {\n",
              "      background-color: #E8F0FE;\n",
              "      border: none;\n",
              "      border-radius: 50%;\n",
              "      cursor: pointer;\n",
              "      display: none;\n",
              "      fill: #1967D2;\n",
              "      height: 32px;\n",
              "      padding: 0 0 0 0;\n",
              "      width: 32px;\n",
              "    }\n",
              "\n",
              "    .colab-df-convert:hover {\n",
              "      background-color: #E2EBFA;\n",
              "      box-shadow: 0px 1px 2px rgba(60, 64, 67, 0.3), 0px 1px 3px 1px rgba(60, 64, 67, 0.15);\n",
              "      fill: #174EA6;\n",
              "    }\n",
              "\n",
              "    .colab-df-buttons div {\n",
              "      margin-bottom: 4px;\n",
              "    }\n",
              "\n",
              "    [theme=dark] .colab-df-convert {\n",
              "      background-color: #3B4455;\n",
              "      fill: #D2E3FC;\n",
              "    }\n",
              "\n",
              "    [theme=dark] .colab-df-convert:hover {\n",
              "      background-color: #434B5C;\n",
              "      box-shadow: 0px 1px 3px 1px rgba(0, 0, 0, 0.15);\n",
              "      filter: drop-shadow(0px 1px 2px rgba(0, 0, 0, 0.3));\n",
              "      fill: #FFFFFF;\n",
              "    }\n",
              "  </style>\n",
              "\n",
              "    <script>\n",
              "      const buttonEl =\n",
              "        document.querySelector('#df-9def0c9a-e532-4045-bb2a-016d0077c5c8 button.colab-df-convert');\n",
              "      buttonEl.style.display =\n",
              "        google.colab.kernel.accessAllowed ? 'block' : 'none';\n",
              "\n",
              "      async function convertToInteractive(key) {\n",
              "        const element = document.querySelector('#df-9def0c9a-e532-4045-bb2a-016d0077c5c8');\n",
              "        const dataTable =\n",
              "          await google.colab.kernel.invokeFunction('convertToInteractive',\n",
              "                                                    [key], {});\n",
              "        if (!dataTable) return;\n",
              "\n",
              "        const docLinkHtml = 'Like what you see? Visit the ' +\n",
              "          '<a target=\"_blank\" href=https://colab.research.google.com/notebooks/data_table.ipynb>data table notebook</a>'\n",
              "          + ' to learn more about interactive tables.';\n",
              "        element.innerHTML = '';\n",
              "        dataTable['output_type'] = 'display_data';\n",
              "        await google.colab.output.renderOutput(dataTable, element);\n",
              "        const docLink = document.createElement('div');\n",
              "        docLink.innerHTML = docLinkHtml;\n",
              "        element.appendChild(docLink);\n",
              "      }\n",
              "    </script>\n",
              "  </div>\n",
              "\n",
              "\n",
              "    <div id=\"df-bae1bd74-b7f3-4e43-bd4b-e2ab416c9be8\">\n",
              "      <button class=\"colab-df-quickchart\" onclick=\"quickchart('df-bae1bd74-b7f3-4e43-bd4b-e2ab416c9be8')\"\n",
              "                title=\"Suggest charts\"\n",
              "                style=\"display:none;\">\n",
              "\n",
              "<svg xmlns=\"http://www.w3.org/2000/svg\" height=\"24px\"viewBox=\"0 0 24 24\"\n",
              "     width=\"24px\">\n",
              "    <g>\n",
              "        <path d=\"M19 3H5c-1.1 0-2 .9-2 2v14c0 1.1.9 2 2 2h14c1.1 0 2-.9 2-2V5c0-1.1-.9-2-2-2zM9 17H7v-7h2v7zm4 0h-2V7h2v10zm4 0h-2v-4h2v4z\"/>\n",
              "    </g>\n",
              "</svg>\n",
              "      </button>\n",
              "\n",
              "<style>\n",
              "  .colab-df-quickchart {\n",
              "      --bg-color: #E8F0FE;\n",
              "      --fill-color: #1967D2;\n",
              "      --hover-bg-color: #E2EBFA;\n",
              "      --hover-fill-color: #174EA6;\n",
              "      --disabled-fill-color: #AAA;\n",
              "      --disabled-bg-color: #DDD;\n",
              "  }\n",
              "\n",
              "  [theme=dark] .colab-df-quickchart {\n",
              "      --bg-color: #3B4455;\n",
              "      --fill-color: #D2E3FC;\n",
              "      --hover-bg-color: #434B5C;\n",
              "      --hover-fill-color: #FFFFFF;\n",
              "      --disabled-bg-color: #3B4455;\n",
              "      --disabled-fill-color: #666;\n",
              "  }\n",
              "\n",
              "  .colab-df-quickchart {\n",
              "    background-color: var(--bg-color);\n",
              "    border: none;\n",
              "    border-radius: 50%;\n",
              "    cursor: pointer;\n",
              "    display: none;\n",
              "    fill: var(--fill-color);\n",
              "    height: 32px;\n",
              "    padding: 0;\n",
              "    width: 32px;\n",
              "  }\n",
              "\n",
              "  .colab-df-quickchart:hover {\n",
              "    background-color: var(--hover-bg-color);\n",
              "    box-shadow: 0 1px 2px rgba(60, 64, 67, 0.3), 0 1px 3px 1px rgba(60, 64, 67, 0.15);\n",
              "    fill: var(--button-hover-fill-color);\n",
              "  }\n",
              "\n",
              "  .colab-df-quickchart-complete:disabled,\n",
              "  .colab-df-quickchart-complete:disabled:hover {\n",
              "    background-color: var(--disabled-bg-color);\n",
              "    fill: var(--disabled-fill-color);\n",
              "    box-shadow: none;\n",
              "  }\n",
              "\n",
              "  .colab-df-spinner {\n",
              "    border: 2px solid var(--fill-color);\n",
              "    border-color: transparent;\n",
              "    border-bottom-color: var(--fill-color);\n",
              "    animation:\n",
              "      spin 1s steps(1) infinite;\n",
              "  }\n",
              "\n",
              "  @keyframes spin {\n",
              "    0% {\n",
              "      border-color: transparent;\n",
              "      border-bottom-color: var(--fill-color);\n",
              "      border-left-color: var(--fill-color);\n",
              "    }\n",
              "    20% {\n",
              "      border-color: transparent;\n",
              "      border-left-color: var(--fill-color);\n",
              "      border-top-color: var(--fill-color);\n",
              "    }\n",
              "    30% {\n",
              "      border-color: transparent;\n",
              "      border-left-color: var(--fill-color);\n",
              "      border-top-color: var(--fill-color);\n",
              "      border-right-color: var(--fill-color);\n",
              "    }\n",
              "    40% {\n",
              "      border-color: transparent;\n",
              "      border-right-color: var(--fill-color);\n",
              "      border-top-color: var(--fill-color);\n",
              "    }\n",
              "    60% {\n",
              "      border-color: transparent;\n",
              "      border-right-color: var(--fill-color);\n",
              "    }\n",
              "    80% {\n",
              "      border-color: transparent;\n",
              "      border-right-color: var(--fill-color);\n",
              "      border-bottom-color: var(--fill-color);\n",
              "    }\n",
              "    90% {\n",
              "      border-color: transparent;\n",
              "      border-bottom-color: var(--fill-color);\n",
              "    }\n",
              "  }\n",
              "</style>\n",
              "\n",
              "      <script>\n",
              "        async function quickchart(key) {\n",
              "          const quickchartButtonEl =\n",
              "            document.querySelector('#' + key + ' button');\n",
              "          quickchartButtonEl.disabled = true;  // To prevent multiple clicks.\n",
              "          quickchartButtonEl.classList.add('colab-df-spinner');\n",
              "          try {\n",
              "            const charts = await google.colab.kernel.invokeFunction(\n",
              "                'suggestCharts', [key], {});\n",
              "          } catch (error) {\n",
              "            console.error('Error during call to suggestCharts:', error);\n",
              "          }\n",
              "          quickchartButtonEl.classList.remove('colab-df-spinner');\n",
              "          quickchartButtonEl.classList.add('colab-df-quickchart-complete');\n",
              "        }\n",
              "        (() => {\n",
              "          let quickchartButtonEl =\n",
              "            document.querySelector('#df-bae1bd74-b7f3-4e43-bd4b-e2ab416c9be8 button');\n",
              "          quickchartButtonEl.style.display =\n",
              "            google.colab.kernel.accessAllowed ? 'block' : 'none';\n",
              "        })();\n",
              "      </script>\n",
              "    </div>\n",
              "\n",
              "    </div>\n",
              "  </div>\n"
            ],
            "application/vnd.google.colaboratory.intrinsic+json": {
              "type": "dataframe",
              "variable_name": "df"
            }
          },
          "metadata": {},
          "execution_count": 68
        }
      ]
    },
    {
      "cell_type": "code",
      "source": [
        "df.shape"
      ],
      "metadata": {
        "colab": {
          "base_uri": "https://localhost:8080/"
        },
        "id": "3knFiuYyYNwN",
        "outputId": "848e4869-ac0b-4676-d133-4ab51e429165"
      },
      "execution_count": 69,
      "outputs": [
        {
          "output_type": "execute_result",
          "data": {
            "text/plain": [
              "(6000, 785)"
            ]
          },
          "metadata": {},
          "execution_count": 69
        }
      ]
    },
    {
      "cell_type": "code",
      "source": [
        "x=df.iloc[:,1:].values\n",
        "y=df.iloc[:,0].values\n"
      ],
      "metadata": {
        "id": "tb_NKd7KSSk9"
      },
      "execution_count": 70,
      "outputs": []
    },
    {
      "cell_type": "code",
      "source": [
        "x_train,x_test,y_train,y_test=train_test_split(x,y,test_size=0.2,random_state=42)\n"
      ],
      "metadata": {
        "id": "KFALvXmHSSn7"
      },
      "execution_count": 71,
      "outputs": []
    },
    {
      "cell_type": "code",
      "source": [
        "x_train=x_train/255.0\n",
        "x_test=x_test/255.0"
      ],
      "metadata": {
        "id": "nJNA4CExSSqW"
      },
      "execution_count": 72,
      "outputs": []
    },
    {
      "cell_type": "code",
      "source": [
        "x_train"
      ],
      "metadata": {
        "colab": {
          "base_uri": "https://localhost:8080/"
        },
        "id": "iXMNh7RYSSsu",
        "outputId": "6b06a4de-05a6-4769-f104-877d7df62c22"
      },
      "execution_count": 73,
      "outputs": [
        {
          "output_type": "execute_result",
          "data": {
            "text/plain": [
              "array([[0.       , 0.       , 0.       , ..., 0.       , 0.       ,\n",
              "        0.       ],\n",
              "       [0.       , 0.       , 0.       , ..., 0.       , 0.       ,\n",
              "        0.       ],\n",
              "       [0.       , 0.       , 0.       , ..., 0.       , 0.       ,\n",
              "        0.       ],\n",
              "       ...,\n",
              "       [0.       , 0.       , 0.       , ..., 0.       , 0.       ,\n",
              "        0.       ],\n",
              "       [0.       , 0.       , 0.       , ..., 0.       , 0.       ,\n",
              "        0.       ],\n",
              "       [0.       , 0.       , 0.       , ..., 0.0627451, 0.       ,\n",
              "        0.       ]])"
            ]
          },
          "metadata": {},
          "execution_count": 73
        }
      ]
    },
    {
      "cell_type": "code",
      "source": [
        "#create customeDataset Class\n",
        "class CustomDataset(Dataset):\n",
        "    def __init__(self,features,labels):\n",
        "      self.features=torch.tensor(features,dtype=torch.float32)\n",
        "      self.labels=torch.tensor(labels,dtype=torch.long)\n",
        "\n",
        "    def  __len__(self):\n",
        "      return len(self.features)\n",
        "\n",
        "    def __getitem__(self,item):\n",
        "      return self.features[item],self.labels[item]\n",
        "\n"
      ],
      "metadata": {
        "id": "BlzApePvUog9"
      },
      "execution_count": 74,
      "outputs": []
    },
    {
      "cell_type": "code",
      "source": [
        "# Train dataset object create\n",
        "train_dataset=CustomDataset(x_train,y_train)\n",
        "len(train_dataset)\n"
      ],
      "metadata": {
        "colab": {
          "base_uri": "https://localhost:8080/"
        },
        "id": "3A0Z-FCiWwxL",
        "outputId": "8f1f51bc-b349-4b30-a784-dcbc52f61c56"
      },
      "execution_count": 75,
      "outputs": [
        {
          "output_type": "execute_result",
          "data": {
            "text/plain": [
              "4800"
            ]
          },
          "metadata": {},
          "execution_count": 75
        }
      ]
    },
    {
      "cell_type": "code",
      "source": [
        "test_dataset=CustomDataset(x_test,y_test)\n",
        "len(test_dataset)"
      ],
      "metadata": {
        "colab": {
          "base_uri": "https://localhost:8080/"
        },
        "id": "H70nZYMJX7pP",
        "outputId": "d9c47272-c64c-48fa-84e1-a1d6c0ec05a7"
      },
      "execution_count": 76,
      "outputs": [
        {
          "output_type": "execute_result",
          "data": {
            "text/plain": [
              "1200"
            ]
          },
          "metadata": {},
          "execution_count": 76
        }
      ]
    },
    {
      "cell_type": "code",
      "source": [
        "# train_test_loader create\n",
        "train_loader=DataLoader(train_dataset,batch_size=32,shuffle=True,pin_memory=True)\n",
        "test_loader=DataLoader(test_dataset,batch_size=32,shuffle=False,pin_memory=True)"
      ],
      "metadata": {
        "id": "_zq90uufYG_B"
      },
      "execution_count": 77,
      "outputs": []
    },
    {
      "cell_type": "code",
      "source": [
        "len(train_loader)"
      ],
      "metadata": {
        "colab": {
          "base_uri": "https://localhost:8080/"
        },
        "id": "myirTxdRfrr5",
        "outputId": "47fb6d26-d010-4a44-9fd9-994e212fb49e"
      },
      "execution_count": 78,
      "outputs": [
        {
          "output_type": "execute_result",
          "data": {
            "text/plain": [
              "150"
            ]
          },
          "metadata": {},
          "execution_count": 78
        }
      ]
    },
    {
      "cell_type": "code",
      "source": [
        "class MyNN(nn.Module):\n",
        "  def __init__(self, num_features):\n",
        "    super().__init__()\n",
        "    self.model = nn.Sequential(\n",
        "        nn.Linear(num_features,128),\n",
        "        nn.ReLU(),\n",
        "        nn.Linear(128,64),\n",
        "        nn.ReLU(),\n",
        "        nn.Linear(64,10)\n",
        "    )\n",
        "\n",
        "  def forward(self, x):  # Properly aligned at class level\n",
        "    return self.model(x)\n"
      ],
      "metadata": {
        "id": "GB-1NKNoZFTk"
      },
      "execution_count": 79,
      "outputs": []
    },
    {
      "cell_type": "code",
      "source": [
        "epochs=100\n",
        "learning_rate=0.1"
      ],
      "metadata": {
        "id": "ohe4gaHWZbME"
      },
      "execution_count": 80,
      "outputs": []
    },
    {
      "cell_type": "code",
      "source": [
        "#instantiate the model\n",
        "model=MyNN(x_train.shape[1]) #show data in features\n",
        "\n",
        "#model for Gpu\n",
        "model=model.to(device)\n",
        "\n",
        "\n",
        "#loss function\n",
        "criterion=nn.CrossEntropyLoss()\n",
        "\n",
        "#optimizer\n",
        "optimizer=optim.SGD(model.parameters(),lr=learning_rate)\n",
        "\n"
      ],
      "metadata": {
        "id": "bb7aUtTCa9z1"
      },
      "execution_count": 81,
      "outputs": []
    },
    {
      "cell_type": "code",
      "source": [],
      "metadata": {
        "id": "eNEUTAJGfnD6"
      },
      "execution_count": 81,
      "outputs": []
    },
    {
      "cell_type": "code",
      "source": [
        "# training_loop\n",
        "for epoch in range(epochs):\n",
        "    total_epoch_loss=0\n",
        "    for batch_features, batch_labels in train_loader:\n",
        "\n",
        "        #For GPU\n",
        "        batch_feature,batch_labels=batch_features.to_(device),batch_labels.to_(device)\n",
        "\n",
        "        # forward pass\n",
        "        outputs = model(batch_features)\n",
        "\n",
        "\n",
        "        # calculate loss\n",
        "        loss = criterion(outputs, batch_labels)\n",
        "\n",
        "        # backward pass\n",
        "        optimizer.zero_grad()\n",
        "        loss.backward()\n",
        "\n",
        "        # update gradients\n",
        "        optimizer.step()\n",
        "        total_epoch_loss=total_epoch_loss+loss.item()\n",
        "    avg_loss=total_epoch_loss/len(train_loader)\n",
        "    print(f'epoch:{epoch+1}, loss: {avg_loss}')"
      ],
      "metadata": {
        "colab": {
          "base_uri": "https://localhost:8080/"
        },
        "id": "wytPtGUWb4Fz",
        "outputId": "1c85e91c-d967-4d08-d415-47ab73d7ada8"
      },
      "execution_count": 84,
      "outputs": [
        {
          "output_type": "stream",
          "name": "stdout",
          "text": [
            "epoch:1, loss: 1.313965723514557\n",
            "epoch:2, loss: 0.7639605889717738\n",
            "epoch:3, loss: 0.6432088449597358\n",
            "epoch:4, loss: 0.5827425147096316\n",
            "epoch:5, loss: 0.532613729039828\n",
            "epoch:6, loss: 0.49239992529153825\n",
            "epoch:7, loss: 0.4699807928005854\n",
            "epoch:8, loss: 0.44091923266649247\n",
            "epoch:9, loss: 0.424676075776418\n",
            "epoch:10, loss: 0.4080882055560748\n",
            "epoch:11, loss: 0.3834374950329463\n",
            "epoch:12, loss: 0.37474448124567666\n",
            "epoch:13, loss: 0.34125059788425766\n",
            "epoch:14, loss: 0.3368989329040051\n",
            "epoch:15, loss: 0.3219494473437468\n",
            "epoch:16, loss: 0.30843092729647953\n",
            "epoch:17, loss: 0.29012444655100506\n",
            "epoch:18, loss: 0.28416174963116647\n",
            "epoch:19, loss: 0.2766579023996989\n",
            "epoch:20, loss: 0.2607216949760914\n",
            "epoch:21, loss: 0.25234069575866064\n",
            "epoch:22, loss: 0.23786049174765747\n",
            "epoch:23, loss: 0.23384537016352017\n",
            "epoch:24, loss: 0.22713854680458703\n",
            "epoch:25, loss: 0.2278678063551585\n",
            "epoch:26, loss: 0.2135811729480823\n",
            "epoch:27, loss: 0.19571318417787553\n",
            "epoch:28, loss: 0.19503607782224813\n",
            "epoch:29, loss: 0.20157330937683582\n",
            "epoch:30, loss: 0.2028706504404545\n",
            "epoch:31, loss: 0.18590932863454024\n",
            "epoch:32, loss: 0.18457375921308994\n",
            "epoch:33, loss: 0.1657143857702613\n",
            "epoch:34, loss: 0.16788183982173602\n",
            "epoch:35, loss: 0.17423620477008323\n",
            "epoch:36, loss: 0.1538942161699136\n",
            "epoch:37, loss: 0.1695472230017185\n",
            "epoch:38, loss: 0.15795558315391342\n",
            "epoch:39, loss: 0.1460284361988306\n",
            "epoch:40, loss: 0.13878890877589584\n",
            "epoch:41, loss: 0.14054676135381064\n",
            "epoch:42, loss: 0.1262355583285292\n",
            "epoch:43, loss: 0.11722455384830634\n",
            "epoch:44, loss: 0.11455836192394296\n",
            "epoch:45, loss: 0.12213189889366428\n",
            "epoch:46, loss: 0.11723037703583637\n",
            "epoch:47, loss: 0.10482811000198126\n",
            "epoch:48, loss: 0.10233197652113935\n",
            "epoch:49, loss: 0.10094637039427956\n",
            "epoch:50, loss: 0.08956018342946967\n",
            "epoch:51, loss: 0.1288085496860246\n",
            "epoch:52, loss: 0.09147348591126502\n",
            "epoch:53, loss: 0.12352751983484875\n",
            "epoch:54, loss: 0.10192046004968384\n",
            "epoch:55, loss: 0.08785523500293493\n",
            "epoch:56, loss: 0.10209900495906671\n",
            "epoch:57, loss: 0.09127247782424092\n",
            "epoch:58, loss: 0.06885036447706322\n",
            "epoch:59, loss: 0.08572854096380372\n",
            "epoch:60, loss: 0.07377683235953252\n",
            "epoch:61, loss: 0.06573091451078654\n",
            "epoch:62, loss: 0.09813201383997996\n",
            "epoch:63, loss: 0.053860096231413385\n",
            "epoch:64, loss: 0.0495704548060894\n",
            "epoch:65, loss: 0.062168738407393294\n",
            "epoch:66, loss: 0.05701389277353883\n",
            "epoch:67, loss: 0.05781792842006932\n",
            "epoch:68, loss: 0.053019032424005366\n",
            "epoch:69, loss: 0.04504036098718643\n",
            "epoch:70, loss: 0.0744383938719208\n",
            "epoch:71, loss: 0.07982058906539653\n",
            "epoch:72, loss: 0.05069152598191674\n",
            "epoch:73, loss: 0.038437623061860604\n",
            "epoch:74, loss: 0.03875120937358588\n",
            "epoch:75, loss: 0.028019749031712612\n",
            "epoch:76, loss: 0.027617319448230166\n",
            "epoch:77, loss: 0.02253867813735269\n",
            "epoch:78, loss: 0.05451312238466926\n",
            "epoch:79, loss: 0.030097013669243704\n",
            "epoch:80, loss: 0.02853594137278075\n",
            "epoch:81, loss: 0.04947091497015208\n",
            "epoch:82, loss: 0.038441712125980604\n",
            "epoch:83, loss: 0.018890898667062478\n",
            "epoch:84, loss: 0.023147559629093546\n",
            "epoch:85, loss: 0.014058819471780832\n",
            "epoch:86, loss: 0.014565662650663095\n",
            "epoch:87, loss: 0.01899262976561052\n",
            "epoch:88, loss: 0.22520651544754705\n",
            "epoch:89, loss: 0.07740892372559756\n",
            "epoch:90, loss: 0.053704575810115784\n",
            "epoch:91, loss: 0.024735735790551796\n",
            "epoch:92, loss: 0.03561335025743271\n",
            "epoch:93, loss: 0.015334348102333023\n",
            "epoch:94, loss: 0.013938642087547729\n",
            "epoch:95, loss: 0.030812101976092285\n",
            "epoch:96, loss: 0.02306366352228603\n",
            "epoch:97, loss: 0.026943028613265294\n",
            "epoch:98, loss: 0.027003347081287453\n",
            "epoch:99, loss: 0.014085141065103623\n",
            "epoch:100, loss: 0.01658092441929815\n"
          ]
        }
      ]
    },
    {
      "cell_type": "code",
      "source": [
        "# model evaluation perpose\n",
        "model.eval()\n"
      ],
      "metadata": {
        "colab": {
          "base_uri": "https://localhost:8080/"
        },
        "id": "nSY2iDmkg-sY",
        "outputId": "6712f11d-794f-4af2-d202-a16858076d46"
      },
      "execution_count": 85,
      "outputs": [
        {
          "output_type": "execute_result",
          "data": {
            "text/plain": [
              "MyNN(\n",
              "  (model): Sequential(\n",
              "    (0): Linear(in_features=784, out_features=128, bias=True)\n",
              "    (1): ReLU()\n",
              "    (2): Linear(in_features=128, out_features=64, bias=True)\n",
              "    (3): ReLU()\n",
              "    (4): Linear(in_features=64, out_features=10, bias=True)\n",
              "  )\n",
              ")"
            ]
          },
          "metadata": {},
          "execution_count": 85
        }
      ]
    },
    {
      "cell_type": "code",
      "source": [
        "# eval code\n",
        "total=0\n",
        "correct=0\n",
        "with torch.no_grad():\n",
        "  for batch_features,batch_labels in test_loader:\n",
        "    #For GPU\n",
        "    batch_feature,batch_labels=batch_features.to_(device),batch_labels.to_(device)\n",
        "    outputs=model(batch_features)\n",
        "\n",
        "    _,predicted=torch.max(outputs,1)\n",
        "\n",
        "    total=total+batch_labels.shape[0]\n",
        "    correct=correct+(predicted==batch_labels).sum().item()\n",
        "print(correct/total)"
      ],
      "metadata": {
        "colab": {
          "base_uri": "https://localhost:8080/"
        },
        "id": "W-eQmJ5YdLQE",
        "outputId": "6dacbc15-fd20-492c-9a7d-81e126481c56"
      },
      "execution_count": 87,
      "outputs": [
        {
          "output_type": "stream",
          "name": "stdout",
          "text": [
            "0.8366666666666667\n"
          ]
        }
      ]
    },
    {
      "cell_type": "code",
      "source": [
        "# improve accuracy value\n",
        "# use full dataset(large date set use gpu)\n",
        "# optimizer,lr,epochs,weight_int\n",
        "# hpt(hyper parameter training)"
      ],
      "metadata": {
        "id": "Cuy66lL5jWtI"
      },
      "execution_count": null,
      "outputs": []
    }
  ]
}